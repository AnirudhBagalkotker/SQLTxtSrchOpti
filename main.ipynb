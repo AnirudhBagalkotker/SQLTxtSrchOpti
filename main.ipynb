{
 "cells": [
  {
   "cell_type": "markdown",
   "metadata": {},
   "source": [
    "## **BITS F407 - ARTIFICIAL INTELLIGENCE**\n",
    "--------------------------------------------------------------------------------\n",
    "\n",
    "\n",
    "**PROJECT TITLE: ENHANCING TEXT-PATTERN SEARCH IN SQL DATABASES**\n",
    "--------------------------------------------------------------------------------\n",
    "\n",
    "***Team number: 68***\n",
    "\n",
    "\n",
    "---\n",
    "**Full names of all students in the team: ANIRUDH BAGALKOTKER, SAKAR HIRDE**\n",
    "\n",
    "---\n",
    "**Id number of all students in the team: 2021A7PS2682H, 2021A3PS3203H**\n"
   ]
  },
  {
   "cell_type": "markdown",
   "metadata": {},
   "source": [
    "## ***1. Import Dependencies***"
   ]
  },
  {
   "cell_type": "code",
   "execution_count": null,
   "metadata": {},
   "outputs": [],
   "source": [
    "%pip install pandas numpy matplotlib mysql-connector fuzzywuzzy scikit-learn python-Levenshtein"
   ]
  },
  {
   "cell_type": "code",
   "execution_count": null,
   "metadata": {},
   "outputs": [],
   "source": [
    "import numpy as np\n",
    "import pandas as pd\n",
    "import matplotlib.pyplot as plt\n",
    "import mysql.connector\n",
    "import time\n",
    "import math\n",
    "import Levenshtein"
   ]
  },
  {
   "cell_type": "markdown",
   "metadata": {},
   "source": [
    "## ***2. Connect to MySQL Database***"
   ]
  },
  {
   "cell_type": "code",
   "execution_count": null,
   "metadata": {},
   "outputs": [],
   "source": [
    "mysqlConnector = mysql.connector.connect(\n",
    "\thost=\"localhost\",\n",
    "\tuser=\"root\",\n",
    "\tpassword=\"root\"\n",
    ")\n",
    "\n",
    "print(mysqlConnector)\n",
    "\n",
    "mysqlCursor = mysqlConnector.cursor()\n",
    "\n",
    "mysqlCursor.execute(\"SHOW DATABASES\")\n",
    "\n",
    "for database in mysqlCursor:\n",
    "\tprint(database)"
   ]
  },
  {
   "cell_type": "markdown",
   "metadata": {},
   "source": [
    "## ***3. Create Database***"
   ]
  },
  {
   "cell_type": "code",
   "execution_count": null,
   "metadata": {},
   "outputs": [],
   "source": [
    "mysqlCursor.execute(\"CREATE DATABASE IF NOT EXISTS AI_PROJ\")\n",
    "\n",
    "mysqlCursor.execute(\"USE AI_PROJ\")"
   ]
  },
  {
   "cell_type": "markdown",
   "metadata": {},
   "source": [
    "## ***4. Create Tables***"
   ]
  },
  {
   "cell_type": "code",
   "execution_count": null,
   "metadata": {},
   "outputs": [],
   "source": [
    "mysqlCursor.execute(\"CREATE TABLE IF NOT EXISTS `BOOKS` ( `BID` int(10) UNSIGNED NOT NULL, `ISBN` bigint(13) UNSIGNED DEFAULT NULL, `NAME` varchar(200) COLLATE utf8_unicode_ci NOT NULL, `MRP` int(6) UNSIGNED DEFAULT NULL, `DESCRIPTION` varchar(1000) COLLATE utf8_unicode_ci DEFAULT NULL, `IMG` varchar(3000) COLLATE utf8_unicode_ci DEFAULT NULL, `AUTHOR` varchar(100) COLLATE utf8_unicode_ci DEFAULT NULL, `FORMAT` varchar(25) COLLATE utf8_unicode_ci DEFAULT 'PAPERBACK' COMMENT 'PAPERBACK OR HARDCOVER', `PAGES` smallint(4) DEFAULT NULL, `WEIGHT` smallint(5) DEFAULT NULL, `REVIEW` tinyint(1) UNSIGNED NOT NULL DEFAULT '0') ENGINE=InnoDB DEFAULT CHARSET=utf8 COLLATE=utf8_unicode_ci;\")\n",
    "\n",
    "mysqlCursor.execute(\"CREATE TABLE IF NOT EXISTS `INVENTORY` ( `PID` bigint(20) UNSIGNED NOT NULL, `BID` int(10) UNSIGNED NOT NULL, `SID` int(10) UNSIGNED NOT NULL, `COND` varchar(25) COLLATE utf8_unicode_ci NOT NULL DEFAULT 'NEW', `QTY` smallint(5) UNSIGNED NOT NULL DEFAULT '1', `CP` float(7,2) UNSIGNED NOT NULL, `SP` float(7,2) UNSIGNED NOT NULL, `DISCOUNT` float(3,1) UNSIGNED DEFAULT '0.0', `LANG` varchar(25) COLLATE utf8_unicode_ci DEFAULT 'ENGLISH', `PI` int(10) UNSIGNED NOT NULL DEFAULT '0', `CREATED` timestamp NOT NULL DEFAULT CURRENT_TIMESTAMP, `MODIFIED` timestamp NOT NULL DEFAULT CURRENT_TIMESTAMP ON UPDATE CURRENT_TIMESTAMP) ENGINE=InnoDB DEFAULT CHARSET=utf8 COLLATE=utf8_unicode_ci;\")"
   ]
  },
  {
   "cell_type": "markdown",
   "metadata": {},
   "source": [
    "We have Already Added the Tables through the MySQL Workbench (Using SQL) and we have generated some data and filled the data in Tables"
   ]
  },
  {
   "cell_type": "markdown",
   "metadata": {},
   "source": [
    "## ***5. SQL In-Built Functions Query***"
   ]
  },
  {
   "cell_type": "markdown",
   "metadata": {},
   "source": [
    "There are 4 SQL In-Built Functions Queries\n",
    "\n",
    "1. **LIKE**\n",
    "2. **SIMILAR TO**\n",
    "3. **CONTAINS**\n",
    "4. **MATCH**\n",
    "\n",
    "Lets Apply LIKE and MATCH Queries and check the time taken for executing each of the query"
   ]
  },
  {
   "cell_type": "code",
   "execution_count": null,
   "metadata": {},
   "outputs": [],
   "source": [
    "timeArr = []"
   ]
  },
  {
   "cell_type": "code",
   "execution_count": null,
   "metadata": {},
   "outputs": [],
   "source": [
    "def MatchQuery(searchString):\n",
    "    start_time = time.time()\n",
    "    sql = \"\"\"\n",
    "    SELECT DISTINCT \n",
    "        I.PID, I.BID, I.SID, I.COND, I.QTY, I.CP, I.SP, I.DISCOUNT, I.LANG, B.ISBN, B.NAME, \n",
    "        B.MRP, B.DESCRIPTION, B.IMG, B.AUTHOR, B.FORMAT, B.PAGES, B.WEIGHT, B.REVIEW, \n",
    "    MATCH(B.NAME, B.AUTHOR, B.DESCRIPTION) AGAINST (%s IN BOOLEAN MODE) \n",
    "    AS relevance FROM INVENTORY I JOIN BOOKS B ON I.BID = B.BID \n",
    "    WHERE MATCH(B.NAME, B.AUTHOR, B.DESCRIPTION) AGAINST (%s IN BOOLEAN MODE) \n",
    "    AND (B.NAME LIKE %s OR B.AUTHOR LIKE %s) ORDER BY relevance DESC \n",
    "    \"\"\"\n",
    "    mysqlCursor.execute(sql, (searchString, searchString, f\"%{searchString}%\", f\"%{searchString}%\"))\n",
    "    for result in mysqlCursor:\n",
    "        print(result)\n",
    "    \n",
    "    time.sleep(5)\n",
    "    end_time = time.time()\n",
    "    elapsed_time = end_time - start_time\n",
    "    print(f\"Time taken for MatchQuery: {elapsed_time} seconds\")\n",
    "    timeArr.append(elapsed_time)\n",
    "\n",
    "def LikeQuery(searchString):\n",
    "    start_time = time.time()\n",
    "    sql = \"\"\"\n",
    "        SELECT DISTINCT I.PID, I.BID, I.SID, I.COND, I.QTY, I.CP, I.SP, I.DISCOUNT, I.LANG, \n",
    "            B.ISBN, B.NAME, B.MRP, B.DESCRIPTION, B.IMG, B.AUTHOR, B.FORMAT, \n",
    "            B.PAGES, B.WEIGHT, B.REVIEW\n",
    "        FROM INVENTORY I\n",
    "        JOIN BOOKS B ON I.BID = B.BID\n",
    "        WHERE (B.NAME LIKE %s OR B.AUTHOR LIKE %s OR B.DESCRIPTION LIKE %s)\n",
    "    \"\"\"\n",
    "    mysqlCursor.execute(sql, (f\"%{searchString}%\", f\"%{searchString}%\", f\"%{searchString}%\"))\n",
    "\n",
    "    for result in mysqlCursor:\n",
    "        print(result)\n",
    "    \n",
    "    time.sleep(5)\n",
    "    end_time = time.time()\n",
    "    elapsed_time = end_time - start_time\n",
    "    print(f\"Time taken for MatchQuery: {elapsed_time} seconds\")\n",
    "    timeArr.append(elapsed_time)\n",
    "\n",
    "search = \"Rich\"\n",
    "MatchQuery(search)\n",
    "LikeQuery(search)"
   ]
  },
  {
   "cell_type": "markdown",
   "metadata": {},
   "source": [
    "## ***6. AI Search Algorithms***"
   ]
  },
  {
   "cell_type": "markdown",
   "metadata": {},
   "source": [
    "#### **6.1 Importing the Tables into a DataFrame**"
   ]
  },
  {
   "cell_type": "code",
   "execution_count": null,
   "metadata": {},
   "outputs": [],
   "source": [
    "mysqlCursor.execute(\"SELECT * FROM BOOKS\")\n",
    "books_data = mysqlCursor.fetchall()\n",
    "\n",
    "# Create a pandas dataFrame for the 'BOOKS' table\n",
    "books_df = pd.DataFrame(books_data, columns=[\"BID\", \"ISBN\", \"NAME\", \"MRP\", \"DESCRIPTION\", \"IMG\", \"AUTHOR\", \"FORMAT\", \"PAGES\", \"WEIGHT\", \"REVIEW\"])\n",
    "\n",
    "# Display the 'BOOKS' dataFrame\n",
    "print(\"BOOKS Table:\")\n",
    "print(books_df)\n",
    "\n",
    "# Execute a SELECT query on the 'INVENTORY' table\n",
    "mysqlCursor.execute(\"SELECT * FROM INVENTORY\")\n",
    "inventory_data = mysqlCursor.fetchall()\n",
    "\n",
    "# Create a pandas dataFrame for the 'INVENTORY' table\n",
    "inventory_df = pd.DataFrame(inventory_data, columns=[\"PID\", \"BID\", \"SID\", \"COND\", \"QTY\", \"CP\", \"SP\", \"DISCOUNT\", \"LANG\", \"PI\", \"CREATED\", \"MODIFIED\"])\n",
    "\n",
    "# Display the 'INVENTORY' dataFrame\n",
    "print(\"\\nINVENTORY Table:\")\n",
    "print(inventory_df)"
   ]
  },
  {
   "cell_type": "markdown",
   "metadata": {},
   "source": [
    "#### **6.2 Full-Text Search**"
   ]
  },
  {
   "cell_type": "markdown",
   "metadata": {},
   "source": [
    "This core search method enables quick and effective text-based searches. We Have Used RE library to Support regular expressions (RE). Regular expressions can contain both special and ordinary characters. Most ordinary characters, like \"A\", \"a\", or \"0\", are the simplest regular expressions, they simply match themselves."
   ]
  },
  {
   "cell_type": "code",
   "execution_count": null,
   "metadata": {},
   "outputs": [],
   "source": [
    "import re\n",
    "\n",
    "search_term = \"Rich\"\n",
    "\n",
    "# Filtered dataframes\n",
    "filtered_inventory_df = pd.DataFrame()\n",
    "filtered_books_df = pd.DataFrame()\n",
    "\n",
    "for col in ['COND', 'LANG']:\n",
    "    mask = inventory_df[col].str.contains(re.escape(search_term), case=False) & inventory_df[col].notna()\n",
    "    filtered_inventory_df = pd.concat([filtered_inventory_df, inventory_df[mask]])\n",
    "\n",
    "start_time = time.time()\n",
    "for col in ['NAME', 'AUTHOR', 'DESCRIPTION']:\n",
    "    mask = books_df[col].str.contains(re.escape(search_term), case=False) & books_df[col].notna()\n",
    "    filtered_books_df = pd.concat([filtered_books_df, books_df[mask]])\n",
    "\n",
    "end_time = time.time()\n",
    "elapsed_time = end_time - start_time\n",
    "print(f\"Time taken for MatchQuery: {elapsed_time} seconds\")\n",
    "\n",
    "print(\"Filtered INVENTORY Table:\")\n",
    "print(filtered_inventory_df)\n",
    "\n",
    "print(\"\\nFiltered BOOKS Table:\")\n",
    "print(filtered_books_df)"
   ]
  },
  {
   "cell_type": "markdown",
   "metadata": {},
   "source": [
    "#### **6.3 Vector Space Model (TF-IDF):**"
   ]
  },
  {
   "cell_type": "markdown",
   "metadata": {},
   "source": [
    "TF-IDF is a statistical tool for assessing a word's significance in relation to a group of documents. It is frequently applied to text-based searches."
   ]
  },
  {
   "cell_type": "code",
   "execution_count": null,
   "metadata": {},
   "outputs": [],
   "source": [
    "search_string = \"Rich\"\n",
    "\n",
    "# Function to calculate Levenshtein distance ratio\n",
    "def levenshtein_ratio(s1, s2):\n",
    "    distance = Levenshtein.distance(s1, s2)\n",
    "    return 1 - (distance / max(len(s1), len(s2)))\n",
    "\n",
    "# Fuzzy Search using Levenshtein distance\n",
    "fuzzy_results = books_df[books_df.apply(lambda row: any(levenshtein_ratio(search_string.lower(), str(cell).lower()) > 0.8 for cell in row), axis=1)]\n",
    "\n",
    "# Display the results\n",
    "print(\"\\nFuzzy Search Results:\")\n",
    "print(fuzzy_results)"
   ]
  },
  {
   "cell_type": "code",
   "execution_count": null,
   "metadata": {},
   "outputs": [],
   "source": [
    "# Function to calculate TF-IDF\n",
    "def tfidf(term, document, corpus):\n",
    "    tf = document.lower().count(term.lower()) / len(document.split())\n",
    "    idf = np.log(len(corpus) / (1 + sum(term.lower() in doc.lower() for doc in corpus)))\n",
    "    return tf * idf\n",
    "\n",
    "# Create a corpus from the specified columns\n",
    "corpus = books_df[['NAME', 'AUTHOR', 'DESCRIPTION']].fillna('').apply(lambda row: ' '.join(row), axis=1)\n",
    "\n",
    "# Calculate TF-IDF for each document in the corpus\n",
    "tfidf_matrix = np.array([[tfidf(term, doc, corpus) for term in search_string.split()] for doc in corpus])\n",
    "\n",
    "# Calculate the cosine similarity\n",
    "cosine_similarities = np.dot(tfidf_matrix, tfidf_matrix.T) / (np.linalg.norm(tfidf_matrix, axis=1)[:, None] * np.linalg.norm(tfidf_matrix, axis=1))\n",
    "\n",
    "# Get the indices of documents with similarity above a threshold\n",
    "similarity_threshold = 0.1  # Adjust the threshold as needed\n",
    "similar_indices = np.where(cosine_similarities > similarity_threshold)\n",
    "\n",
    "# Get the results dataframe\n",
    "vsm_results = books_df.iloc[similar_indices[0]]\n",
    "\n",
    "# Display the results\n",
    "print(\"\\nVector Space Model (TF-IDF) Results:\")\n",
    "print(vsm_results)"
   ]
  },
  {
   "cell_type": "markdown",
   "metadata": {},
   "source": [
    "#### **6.4 BM25:**"
   ]
  },
  {
   "cell_type": "markdown",
   "metadata": {},
   "source": [
    "BM25 is an enhanced version of TF-IDF that takes into account things like term\n",
    "saturation and normalization of document length. It is well known for being efficient at retrieving information."
   ]
  },
  {
   "cell_type": "code",
   "execution_count": null,
   "metadata": {},
   "outputs": [],
   "source": [
    "def bm25(term, document, documents, k=1.5, b=0.75):\n",
    "    tf = document.count(term)\n",
    "    idf = math.log((len(documents) - sum([1 for doc in documents if term in doc]) + 0.5) / (sum([1 for doc in documents if term in doc]) + 0.5) + 1)\n",
    "    avgdl = sum(len(doc) for doc in documents) / len(documents)\n",
    "    score = idf * (tf * (k + 1)) / (tf + k * (1 - b + b * len(document) / avgdl))\n",
    "    return score\n",
    "\n",
    "# Example Usage\n",
    "search_term = 'Rich'\n",
    "\n",
    "# Apply BM25 to relevant columns in inventory_df\n",
    "start_time = time.time()\n",
    "for col in ['COND', 'LANG']:\n",
    "    documents = inventory_df[col].apply(lambda x: str(x).split() if pd.notnull(x) else []).tolist()\n",
    "    scores = [bm25(search_term, doc, documents) for doc in documents]\n",
    "    inventory_df[f'{col}_bm25_score'] = scores\n",
    "\n",
    "end_time = time.time()\n",
    "elapsed_time = end_time - start_time\n",
    "print(f\"Time taken for MatchQuery: {elapsed_time} seconds\")\n",
    "\n",
    "start_time = time.time()\n",
    "# Apply BM25 to relevant columns in books_df\n",
    "for col in ['NAME', 'AUTHOR', 'DESCRIPTION']:\n",
    "    documents = books_df[col].apply(lambda x: str(x).split() if pd.notnull(x) else []).tolist()\n",
    "    scores = [bm25(search_term, doc, documents) for doc in documents]\n",
    "    books_df[f'{col}_bm25_score'] = scores\n",
    "\n",
    "end_time = time.time()\n",
    "elapsed_time = end_time - start_time\n",
    "print(f\"Time taken for MatchQuery: {elapsed_time} seconds\")\n",
    "timeArr.append(elapsed_time)\n",
    "\n",
    "# Display the dataframes with BM25 scores\n",
    "print(\"INVENTORY Table with BM25 scores:\")\n",
    "print(inventory_df)\n",
    "\n",
    "print(\"\\nBOOKS Table with BM25 scores:\")\n",
    "print(books_df)"
   ]
  },
  {
   "cell_type": "code",
   "execution_count": null,
   "metadata": {},
   "outputs": [],
   "source": [
    "import pandas as pd\n",
    "from fuzzywuzzy import fuzz\n",
    "from sklearn.feature_extraction.text import TfidfVectorizer\n",
    "from sklearn.metrics.pairwise import linear_kernel\n",
    "\n",
    "# Sample data retrieval\n",
    "# Assuming you have already created 'books_df' and 'inventory_df' dataframes\n",
    "\n",
    "# Example search string\n",
    "search_string = \"example\"\n",
    "\n",
    "# Full-Text Search\n",
    "full_text_results = books_df[books_df.apply(lambda row: any(search_string.lower() in str(cell).lower() for cell in row), axis=1)]\n",
    "\n",
    "# Fuzzy Search using Levenshtein distance\n",
    "fuzzy_results = books_df[books_df.apply(lambda row: any(fuzz.ratio(search_string.lower(), str(cell).lower()) > 80 for cell in row), axis=1)]\n",
    "\n",
    "# Vector Space Model (VSM) using TF-IDF\n",
    "tfidf_vectorizer = TfidfVectorizer(stop_words='english')\n",
    "tfidf_matrix = tfidf_vectorizer.fit_transform(books_df[['NAME', 'AUTHOR', 'DESCRIPTION']].fillna(''))\n",
    "\n",
    "cosine_similarities = linear_kernel(tfidf_matrix, tfidf_vectorizer.transform([search_string]))\n",
    "vsm_results = books_df.iloc[cosine_similarities[0].argsort()[::-1]]\n",
    "\n",
    "# Boolean Search\n",
    "boolean_results = books_df[books_df.apply(lambda row: any(search_string.lower() in str(cell).lower() for cell in row), axis=1)]\n",
    "\n",
    "# Display the results\n",
    "print(\"Full-Text Search Results:\")\n",
    "print(full_text_results)\n",
    "\n",
    "print(\"\\nFuzzy Search Results:\")\n",
    "print(fuzzy_results)\n",
    "\n",
    "print(\"\\nVector Space Model (TF-IDF) Results:\")\n",
    "print(vsm_results)\n",
    "\n",
    "print(\"\\nBoolean Search Results:\")\n",
    "print(boolean_results)\n"
   ]
  }
 ],
 "metadata": {
  "language_info": {
   "name": "python"
  },
  "orig_nbformat": 4
 },
 "nbformat": 4,
 "nbformat_minor": 2
}
