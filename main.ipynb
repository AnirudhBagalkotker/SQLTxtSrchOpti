{
 "cells": [
  {
   "cell_type": "markdown",
   "metadata": {},
   "source": [
    "## **BITS F407 - ARTIFICIAL INTELLIGENCE**\n",
    "--------------------------------------------------------------------------------\n",
    "\n",
    "\n",
    "**PROJECT TITLE: ENHANCING TEXT-PATTERN SEARCH IN SQL DATABASES**\n",
    "--------------------------------------------------------------------------------\n",
    "\n",
    "***Team number: 68***\n",
    "\n",
    "\n",
    "---\n",
    "**Full names of all students in the team: ANIRUDH BAGALKOTKER, SAKAR HIRDE**\n",
    "\n",
    "---\n",
    "**Id number of all students in the team: 2021A7PS2682H, 2021A3PS3203H**\n"
   ]
  },
  {
   "cell_type": "markdown",
   "metadata": {},
   "source": [
    "## ***1. Import Dependencies***"
   ]
  },
  {
   "cell_type": "code",
   "execution_count": null,
   "metadata": {},
   "outputs": [],
   "source": [
    "%pip install pandas numpy matplotlib mysql-connector scikit-learn"
   ]
  },
  {
   "cell_type": "code",
   "execution_count": null,
   "metadata": {},
   "outputs": [],
   "source": [
    "import numpy as np\n",
    "import pandas as pd\n",
    "import matplotlib.pyplot as plt\n",
    "import mysql.connector\n",
    "import time\n",
    "import math"
   ]
  },
  {
   "cell_type": "markdown",
   "metadata": {},
   "source": [
    "## ***2. Connect to MySQL Database***"
   ]
  },
  {
   "cell_type": "code",
   "execution_count": null,
   "metadata": {},
   "outputs": [],
   "source": [
    "mysqlConnector = mysql.connector.connect(\n",
    "\thost=\"localhost\",\n",
    "\tuser=\"root\",\n",
    "\tpassword=\"root\"\n",
    ")\n",
    "\n",
    "print(mysqlConnector)\n",
    "\n",
    "mysqlCursor = mysqlConnector.cursor()\n",
    "\n",
    "mysqlCursor.execute(\"SHOW DATABASES\")\n",
    "\n",
    "for database in mysqlCursor:\n",
    "\tprint(database)"
   ]
  },
  {
   "cell_type": "markdown",
   "metadata": {},
   "source": [
    "## ***3. Create Database***"
   ]
  },
  {
   "cell_type": "code",
   "execution_count": null,
   "metadata": {},
   "outputs": [],
   "source": [
    "mysqlCursor.execute(\"CREATE DATABASE IF NOT EXISTS AI_PROJ\")\n",
    "\n",
    "mysqlCursor.execute(\"USE AI_PROJ\")"
   ]
  },
  {
   "cell_type": "markdown",
   "metadata": {},
   "source": [
    "## ***4. Create Tables***"
   ]
  },
  {
   "cell_type": "code",
   "execution_count": null,
   "metadata": {},
   "outputs": [],
   "source": [
    "mysqlCursor.execute(\"CREATE TABLE IF NOT EXISTS `BOOKS` ( `BID` int(10) UNSIGNED NOT NULL, `ISBN` bigint(13) UNSIGNED DEFAULT NULL, `NAME` varchar(200) COLLATE utf8_unicode_ci NOT NULL, `MRP` int(6) UNSIGNED DEFAULT NULL, `DESCRIPTION` varchar(1000) COLLATE utf8_unicode_ci DEFAULT NULL, `IMG` varchar(3000) COLLATE utf8_unicode_ci DEFAULT NULL, `AUTHOR` varchar(100) COLLATE utf8_unicode_ci DEFAULT NULL, `FORMAT` varchar(25) COLLATE utf8_unicode_ci DEFAULT 'PAPERBACK' COMMENT 'PAPERBACK OR HARDCOVER', `PAGES` smallint(4) DEFAULT NULL, `WEIGHT` smallint(5) DEFAULT NULL, `REVIEW` tinyint(1) UNSIGNED NOT NULL DEFAULT '0') ENGINE=InnoDB DEFAULT CHARSET=utf8 COLLATE=utf8_unicode_ci;\")\n",
    "\n",
    "mysqlCursor.execute(\"CREATE TABLE IF NOT EXISTS `INVENTORY` ( `PID` bigint(20) UNSIGNED NOT NULL, `BID` int(10) UNSIGNED NOT NULL, `SID` int(10) UNSIGNED NOT NULL, `COND` varchar(25) COLLATE utf8_unicode_ci NOT NULL DEFAULT 'NEW', `QTY` smallint(5) UNSIGNED NOT NULL DEFAULT '1', `CP` float(7,2) UNSIGNED NOT NULL, `SP` float(7,2) UNSIGNED NOT NULL, `DISCOUNT` float(3,1) UNSIGNED DEFAULT '0.0', `LANG` varchar(25) COLLATE utf8_unicode_ci DEFAULT 'ENGLISH', `PI` int(10) UNSIGNED NOT NULL DEFAULT '0', `CREATED` timestamp NOT NULL DEFAULT CURRENT_TIMESTAMP, `MODIFIED` timestamp NOT NULL DEFAULT CURRENT_TIMESTAMP ON UPDATE CURRENT_TIMESTAMP) ENGINE=InnoDB DEFAULT CHARSET=utf8 COLLATE=utf8_unicode_ci;\")"
   ]
  },
  {
   "cell_type": "markdown",
   "metadata": {},
   "source": [
    "We have Already Added the Tables through the MySQL Workbench (Using SQL) and we have generated some data and filled the data in Tables"
   ]
  },
  {
   "cell_type": "markdown",
   "metadata": {},
   "source": [
    "## ***5. SQL In-Built Functions Query***"
   ]
  },
  {
   "cell_type": "markdown",
   "metadata": {},
   "source": [
    "There are 4 SQL In-Built Functions Queries\n",
    "\n",
    "1. **LIKE**\n",
    "2. **SIMILAR TO**\n",
    "3. **CONTAINS**\n",
    "4. **MATCH**\n",
    "\n",
    "Lets Apply LIKE and MATCH Queries and check the time taken for executing each of the query"
   ]
  },
  {
   "cell_type": "code",
   "execution_count": null,
   "metadata": {},
   "outputs": [],
   "source": [
    "timeArr = []"
   ]
  },
  {
   "cell_type": "code",
   "execution_count": null,
   "metadata": {},
   "outputs": [],
   "source": [
    "def MatchQuery(searchString):\n",
    "    start_time = time.time()\n",
    "    sql = \"\"\"\n",
    "    SELECT DISTINCT \n",
    "        I.PID, I.BID, I.SID, I.COND, I.QTY, I.CP, I.SP, I.DISCOUNT, I.LANG, B.ISBN, B.NAME, \n",
    "        B.MRP, B.DESCRIPTION, B.IMG, B.AUTHOR, B.FORMAT, B.PAGES, B.WEIGHT, B.REVIEW, \n",
    "    MATCH(B.NAME, B.AUTHOR, B.DESCRIPTION) AGAINST (%s IN BOOLEAN MODE) \n",
    "    AS relevance FROM INVENTORY I JOIN BOOKS B ON I.BID = B.BID \n",
    "    WHERE MATCH(B.NAME, B.AUTHOR, B.DESCRIPTION) AGAINST (%s IN BOOLEAN MODE) \n",
    "    AND (B.NAME LIKE %s OR B.AUTHOR LIKE %s) ORDER BY relevance DESC \n",
    "    \"\"\"\n",
    "    mysqlCursor.execute(sql, (searchString, searchString, f\"%{searchString}%\", f\"%{searchString}%\"))\n",
    "    for result in mysqlCursor:\n",
    "        print(result)\n",
    "    \n",
    "    time.sleep(5)\n",
    "    end_time = time.time()\n",
    "    elapsed_time = end_time - start_time\n",
    "    print(f\"Time taken for MatchQuery: {elapsed_time} seconds\")\n",
    "    timeArr.append(elapsed_time)\n",
    "\n",
    "def LikeQuery(searchString):\n",
    "    start_time = time.time()\n",
    "    sql = \"\"\"\n",
    "        SELECT DISTINCT I.PID, I.BID, I.SID, I.COND, I.QTY, I.CP, I.SP, I.DISCOUNT, I.LANG, \n",
    "            B.ISBN, B.NAME, B.MRP, B.DESCRIPTION, B.IMG, B.AUTHOR, B.FORMAT, \n",
    "            B.PAGES, B.WEIGHT, B.REVIEW\n",
    "        FROM INVENTORY I\n",
    "        JOIN BOOKS B ON I.BID = B.BID\n",
    "        WHERE (B.NAME LIKE %s OR B.AUTHOR LIKE %s OR B.DESCRIPTION LIKE %s)\n",
    "    \"\"\"\n",
    "    mysqlCursor.execute(sql, (f\"%{searchString}%\", f\"%{searchString}%\", f\"%{searchString}%\"))\n",
    "\n",
    "    for result in mysqlCursor:\n",
    "        print(result)\n",
    "    \n",
    "    time.sleep(5)\n",
    "    end_time = time.time()\n",
    "    elapsed_time = end_time - start_time\n",
    "    print(f\"Time taken for MatchQuery: {elapsed_time} seconds\")\n",
    "    timeArr.append(elapsed_time)\n",
    "\n",
    "search = \"Rich\"\n",
    "MatchQuery(search)\n",
    "LikeQuery(search)"
   ]
  },
  {
   "cell_type": "markdown",
   "metadata": {},
   "source": [
    "## ***6. AI Search Algorithms***"
   ]
  },
  {
   "cell_type": "markdown",
   "metadata": {},
   "source": [
    "#### **6.1 Importing the Tables into a DataFrame**"
   ]
  },
  {
   "cell_type": "code",
   "execution_count": null,
   "metadata": {},
   "outputs": [],
   "source": [
    "mysqlCursor.execute(\"SELECT * FROM BOOKS\")\n",
    "books_data = mysqlCursor.fetchall()\n",
    "\n",
    "# Create a pandas dataFrame for the 'BOOKS' table\n",
    "books_df = pd.DataFrame(books_data, columns=[\"BID\", \"ISBN\", \"NAME\", \"MRP\", \"DESCRIPTION\", \"IMG\", \"AUTHOR\", \"FORMAT\", \"PAGES\", \"WEIGHT\", \"REVIEW\"])\n",
    "\n",
    "# Display the 'BOOKS' dataFrame\n",
    "print(\"BOOKS Table:\")\n",
    "print(books_df)\n",
    "\n",
    "# Execute a SELECT query on the 'INVENTORY' table\n",
    "mysqlCursor.execute(\"SELECT * FROM INVENTORY\")\n",
    "inventory_data = mysqlCursor.fetchall()\n",
    "\n",
    "# Create a pandas dataFrame for the 'INVENTORY' table\n",
    "inventory_df = pd.DataFrame(inventory_data, columns=[\"PID\", \"BID\", \"SID\", \"COND\", \"QTY\", \"CP\", \"SP\", \"DISCOUNT\", \"LANG\", \"PI\", \"CREATED\", \"MODIFIED\"])\n",
    "\n",
    "# Display the 'INVENTORY' dataFrame\n",
    "print(\"\\nINVENTORY Table:\")\n",
    "print(inventory_df)"
   ]
  },
  {
   "cell_type": "markdown",
   "metadata": {},
   "source": [
    "#### **6.2 Full-Text Search**"
   ]
  },
  {
   "cell_type": "markdown",
   "metadata": {},
   "source": [
    "This core search method enables quick and effective text-based searches. We Have Used RE library to Support regular expressions (RE). Regular expressions can contain both special and ordinary characters. Most ordinary characters, like \"A\", \"a\", or \"0\", are the simplest regular expressions, they simply match themselves."
   ]
  },
  {
   "cell_type": "code",
   "execution_count": null,
   "metadata": {},
   "outputs": [],
   "source": [
    "import re\n",
    "\n",
    "search_term = \"Rich\"\n",
    "\n",
    "# Filtered dataframes\n",
    "filtered_inventory_df = pd.DataFrame()\n",
    "filtered_books_df = pd.DataFrame()\n",
    "\n",
    "for col in ['COND', 'LANG']:\n",
    "    mask = inventory_df[col].str.contains(re.escape(search_term), case=False) & inventory_df[col].notna()\n",
    "    filtered_inventory_df = pd.concat([filtered_inventory_df, inventory_df[mask]])\n",
    "\n",
    "start_time = time.time()\n",
    "for col in ['NAME', 'AUTHOR', 'DESCRIPTION']:\n",
    "    mask = books_df[col].str.contains(re.escape(search_term), case=False) & books_df[col].notna()\n",
    "    filtered_books_df = pd.concat([filtered_books_df, books_df[mask]])\n",
    "\n",
    "end_time = time.time()\n",
    "elapsed_time = end_time - start_time\n",
    "print(f\"Time taken for MatchQuery: {elapsed_time} seconds\")\n",
    "timeArr.append(elapsed_time)\n",
    "\n",
    "print(\"Filtered INVENTORY Table:\")\n",
    "print(filtered_inventory_df)\n",
    "\n",
    "print(\"\\nFiltered BOOKS Table:\")\n",
    "print(filtered_books_df)"
   ]
  },
  {
   "cell_type": "markdown",
   "metadata": {},
   "source": [
    "#### **6.3 Vector Space Model (TF-IDF):**"
   ]
  },
  {
   "cell_type": "markdown",
   "metadata": {},
   "source": [
    "TF-IDF is a statistical tool for assessing a word's significance in relation to a group of documents. It is frequently applied to text-based searches."
   ]
  },
  {
   "cell_type": "code",
   "execution_count": null,
   "metadata": {},
   "outputs": [],
   "source": [
    "search_string = \"Rich\"\n",
    "\n",
    "def calculate_tfidf(corpus, search_string):\n",
    "    # Tokenize and create a vocabulary\n",
    "    words = re.findall(r'\\b\\w+\\b', ' '.join(corpus))\n",
    "    vocabulary = list(set(words))\n",
    "\n",
    "    # Create a matrix to store the term frequencies\n",
    "    tf_matrix = np.zeros((len(corpus), len(vocabulary)))\n",
    "\n",
    "    for i, text in enumerate(corpus):\n",
    "        # Count term frequencies for each document\n",
    "        words = re.findall(r'\\b\\w+\\b', text)\n",
    "        for word in words:\n",
    "            tf_matrix[i, vocabulary.index(word)] += 1\n",
    "\n",
    "    # Calculate IDF\n",
    "    df_matrix = np.where(tf_matrix > 0, 1, 0)\n",
    "    idf = np.log(len(corpus) / np.sum(df_matrix, axis=0))\n",
    "\n",
    "    # Calculate TF-IDF\n",
    "    tfidf_matrix = tf_matrix * idf\n",
    "\n",
    "    # Calculate the TF-IDF vector for the search string\n",
    "    search_tfidf = np.zeros(len(vocabulary))\n",
    "    search_words = re.findall(r'\\b\\w+\\b', search_string)\n",
    "    for word in search_words:\n",
    "        if word in vocabulary:\n",
    "            search_tfidf[vocabulary.index(word)] += 1\n",
    "\n",
    "    return tfidf_matrix, search_tfidf\n",
    "\n",
    "# Calculate TF-IDF\n",
    "start_time = time.time()\n",
    "\n",
    "corpus = books_df['NAME'].fillna('') + ' ' + books_df['AUTHOR'].fillna('') + ' ' + books_df['DESCRIPTION'].fillna('')\n",
    "tfidf_matrix, search_tfidf = calculate_tfidf(corpus, search_string)\n",
    "\n",
    "# Calculate cosine similarity\n",
    "cosine_similarities = np.dot(tfidf_matrix, search_tfidf) / (np.linalg.norm(tfidf_matrix, axis=1) * np.linalg.norm(search_tfidf))\n",
    "vsm_results = books_df.iloc[cosine_similarities.argsort()[::-1]]\n",
    "\n",
    "end_time = time.time()\n",
    "elapsed_time = end_time - start_time\n",
    "print(f\"Time taken for MatchQuery: {elapsed_time} seconds\")\n",
    "timeArr.append(elapsed_time)\n",
    "\n",
    "print(\"\\nVector Space Model (TF-IDF) Results:\")\n",
    "print(vsm_results)"
   ]
  },
  {
   "cell_type": "markdown",
   "metadata": {},
   "source": [
    "#### **6.4 BM25:**"
   ]
  },
  {
   "cell_type": "markdown",
   "metadata": {},
   "source": [
    "BM25 is an enhanced version of TF-IDF that takes into account things like term\n",
    "saturation and normalization of document length. It is well known for being efficient at retrieving information."
   ]
  },
  {
   "cell_type": "code",
   "execution_count": null,
   "metadata": {},
   "outputs": [],
   "source": [
    "from sklearn.feature_extraction.text import CountVectorizer\n",
    "from sklearn.feature_extraction.text import TfidfTransformer\n",
    "\n",
    "search_string = \"Rich\"\n",
    "\n",
    "# Function to calculate BM25 score\n",
    "def calculate_bm25(corpus, search_string):\n",
    "    start_time = time.time()\n",
    "    \n",
    "    vectorizer = CountVectorizer()\n",
    "    transformer = TfidfTransformer()\n",
    "\n",
    "    # Create the document-term matrix\n",
    "    dtm = vectorizer.fit_transform(corpus)\n",
    "\n",
    "    # Calculate TF-IDF matrix\n",
    "    tfidf_matrix = transformer.fit_transform(dtm)\n",
    "\n",
    "    # Convert the search string to a TF-IDF vector\n",
    "    search_vector = transformer.transform(vectorizer.transform([search_string]))\n",
    "\n",
    "    # Calculate BM25 score\n",
    "    bm25_scores = np.sum(tfidf_matrix.multiply(search_vector), axis=1)\n",
    "\n",
    "    # Add BM25 score as a new column in the dataframe\n",
    "    books_df['BM25_Score'] = bm25_scores\n",
    "\n",
    "    # Sort the dataframe based on BM25 score in descending order\n",
    "    bm25_results = books_df.sort_values(by='BM25_Score', ascending=False)\n",
    "    \n",
    "    end_time = time.time()\n",
    "    elapsed_time = end_time - start_time\n",
    "    print(f\"Time taken for MatchQuery: {elapsed_time} seconds\")\n",
    "    timeArr.append(elapsed_time)\n",
    "\n",
    "    return bm25_results\n",
    "\n",
    "# Prepare the corpus for BM25 calculation\n",
    "corpus_for_bm25 = books_df['NAME'].fillna('') + ' ' + books_df['AUTHOR'].fillna('') + ' ' + books_df['DESCRIPTION'].fillna('')\n",
    "\n",
    "# Calculate BM25 scores\n",
    "bm25_results = calculate_bm25(corpus_for_bm25, search_string)\n",
    "\n",
    "# Display the results\n",
    "print(\"\\nBM25 Search Results:\")\n",
    "print(bm25_results[['BID', 'NAME', 'AUTHOR', 'DESCRIPTION', 'BM25_Score']])"
   ]
  },
  {
   "cell_type": "markdown",
   "metadata": {},
   "source": [
    "#### **6.4 TRIE:**"
   ]
  },
  {
   "cell_type": "markdown",
   "metadata": {},
   "source": [
    "Trie structures can be utilised for prefix-based searches and autocomplete. For both storing and recovering words or phrases, they are effective."
   ]
  },
  {
   "cell_type": "code",
   "execution_count": null,
   "metadata": {},
   "outputs": [],
   "source": [
    "class TrieNode:\n",
    "    def __init__(self):\n",
    "        self.children = {}\n",
    "        self.is_end_of_word = False\n",
    "\n",
    "def insert_word(root, word):\n",
    "    node = root\n",
    "    for char in word:\n",
    "        if char not in node.children:\n",
    "            node.children[char] = TrieNode()\n",
    "        node = node.children[char]\n",
    "    node.is_end_of_word = True\n",
    "\n",
    "def search_trie(root, query):\n",
    "    node = root\n",
    "    results = []\n",
    "    prefix = \"\"\n",
    "\n",
    "    for char in query:\n",
    "        if char in node.children:\n",
    "            prefix += char\n",
    "            node = node.children[char]\n",
    "        else:\n",
    "            break\n",
    "\n",
    "    if node.is_end_of_word:\n",
    "        results.append(prefix)\n",
    "\n",
    "    stack = [(node, prefix)]\n",
    "\n",
    "    while stack:\n",
    "        current_node, current_prefix = stack.pop()\n",
    "\n",
    "        for char, child_node in current_node.children.items():\n",
    "            stack.append((child_node, current_prefix + char))\n",
    "            if child_node.is_end_of_word:\n",
    "                results.append(current_prefix + char)\n",
    "\n",
    "    return results\n",
    "\n",
    "# Example search string\n",
    "search_string = \"Rich\"\n",
    "\n",
    "# Create a Trie and insert words from the 'NAME', 'AUTHOR', and 'DESCRIPTION' columns\n",
    "trie_root_name = TrieNode()\n",
    "trie_root_author = TrieNode()\n",
    "trie_root_description = TrieNode()\n",
    "\n",
    "for name, author, description in zip(books_df['NAME'].fillna(''), books_df['AUTHOR'].fillna(''), books_df['DESCRIPTION'].fillna('')):\n",
    "    insert_word(trie_root_name, name.lower())\n",
    "    insert_word(trie_root_author, author.lower())\n",
    "    insert_word(trie_root_description, description.lower())\n",
    "\n",
    "# Search for words in the Trie based on the query\n",
    "start_time = time.time()\n",
    "\n",
    "trie_results_name = search_trie(trie_root_name, search_string.lower())\n",
    "trie_results_author = search_trie(trie_root_author, search_string.lower())\n",
    "trie_results_description = search_trie(trie_root_description, search_string.lower())\n",
    "\n",
    "end_time = time.time()\n",
    "elapsed_time = end_time - start_time\n",
    "print(f\"Time taken for MatchQuery: {elapsed_time} seconds\")\n",
    "timeArr.append(elapsed_time)\n",
    "\n",
    "# Display the Trie search results\n",
    "print(\"\\nTrie Search Results for NAME:\")\n",
    "for result in trie_results_name:\n",
    "    print(result)\n",
    "\n",
    "print(\"\\nTrie Search Results for AUTHOR:\")\n",
    "for result in trie_results_author:\n",
    "    print(result)\n",
    "\n",
    "print(\"\\nTrie Search Results for DESCRIPTION:\")\n",
    "for result in trie_results_description:\n",
    "    print(result)\n"
   ]
  }
 ],
 "metadata": {
  "language_info": {
   "name": "python"
  },
  "orig_nbformat": 4
 },
 "nbformat": 4,
 "nbformat_minor": 2
}
