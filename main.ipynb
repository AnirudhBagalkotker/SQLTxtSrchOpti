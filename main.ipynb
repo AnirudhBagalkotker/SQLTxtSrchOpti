{
 "cells": [
  {
   "cell_type": "markdown",
   "metadata": {},
   "source": [
    "## **BITS F407 - ARTIFICIAL INTELLIGENCE**\n",
    "--------------------------------------------------------------------------------\n",
    "\n",
    "\n",
    "**PROJECT TITLE: ENHANCING TEXT-PATTERN SEARCH IN SQL DATABASES**\n",
    "--------------------------------------------------------------------------------\n",
    "\n",
    "***Team number: 68***\n",
    "\n",
    "\n",
    "---\n",
    "**Full names of all students in the team: ANIRUDH BAGALKOTKER, SAKAR HIRDE**\n",
    "\n",
    "---\n",
    "**Id number of all students in the team: 2021A7PS2682H, 2021A3PS3203H**\n"
   ]
  },
  {
   "cell_type": "markdown",
   "metadata": {},
   "source": [
    "## ***1. Import Dependencies***"
   ]
  },
  {
   "cell_type": "code",
   "execution_count": null,
   "metadata": {},
   "outputs": [],
   "source": [
    "%pip install pandas numpy plotly matplotlib mysql-connector"
   ]
  },
  {
   "cell_type": "code",
   "execution_count": null,
   "metadata": {},
   "outputs": [],
   "source": [
    "import numpy as np\n",
    "import pandas as pd\n",
    "import matplotlib.pyplot as plt\n",
    "import mysql.connector"
   ]
  },
  {
   "cell_type": "markdown",
   "metadata": {},
   "source": [
    "## ***2. Connect to MySQL Database***"
   ]
  },
  {
   "cell_type": "code",
   "execution_count": null,
   "metadata": {},
   "outputs": [],
   "source": [
    "mysqlConnector = mysql.connector.connect(\n",
    "\thost=\"localhost\",\n",
    "\tuser=\"root\",\n",
    "\tpassword=\"root\"\n",
    ")\n",
    "\n",
    "print(mysqlConnector)\n",
    "\n",
    "mysqlCursor = mysqlConnector.cursor()\n",
    "\n",
    "mysqlCursor.execute(\"SHOW DATABASES\")\n",
    "\n",
    "for database in mysqlCursor:\n",
    "\tprint(database)"
   ]
  },
  {
   "cell_type": "markdown",
   "metadata": {},
   "source": [
    "## ***3. Create Database***"
   ]
  },
  {
   "cell_type": "markdown",
   "metadata": {},
   "source": []
  },
  {
   "cell_type": "code",
   "execution_count": null,
   "metadata": {},
   "outputs": [],
   "source": [
    "mysqlCursor.execute(\"CREATE DATABASE AI_PROJ\")"
   ]
  }
 ],
 "metadata": {
  "language_info": {
   "name": "python"
  },
  "orig_nbformat": 4
 },
 "nbformat": 4,
 "nbformat_minor": 2
}
