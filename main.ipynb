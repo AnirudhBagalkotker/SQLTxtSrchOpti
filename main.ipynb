{
 "cells": [
  {
   "cell_type": "markdown",
   "metadata": {},
   "source": [
    "## **BITS F407 - ARTIFICIAL INTELLIGENCE**\n",
    "--------------------------------------------------------------------------------\n",
    "\n",
    "\n",
    "**PROJECT TITLE: ENHANCING TEXT-PATTERN SEARCH IN SQL DATABASES**\n",
    "--------------------------------------------------------------------------------\n",
    "\n",
    "***Team number: 68***\n",
    "\n",
    "\n",
    "---\n",
    "**Full names of all students in the team: ANIRUDH BAGALKOTKER, SAKAR HIRDE**\n",
    "\n",
    "---\n",
    "**Id number of all students in the team: 2021A7PS2682H, 2021A3PS3203H**\n"
   ]
  },
  {
   "cell_type": "markdown",
   "metadata": {},
   "source": [
    "## ***1. Import Dependencies***"
   ]
  },
  {
   "cell_type": "code",
   "execution_count": null,
   "metadata": {},
   "outputs": [],
   "source": [
    "%pip install pandas numpy matplotlib mysql-connector"
   ]
  },
  {
   "cell_type": "code",
   "execution_count": null,
   "metadata": {},
   "outputs": [],
   "source": [
    "import numpy as np\n",
    "import pandas as pd\n",
    "import matplotlib.pyplot as plt\n",
    "import mysql.connector\n",
    "import time\n",
    "import math"
   ]
  },
  {
   "cell_type": "markdown",
   "metadata": {},
   "source": [
    "## ***2. Connect to MySQL Database***"
   ]
  },
  {
   "cell_type": "code",
   "execution_count": null,
   "metadata": {},
   "outputs": [],
   "source": [
    "mysqlConnector = mysql.connector.connect(\n",
    "\thost=\"localhost\",\n",
    "\tuser=\"root\",\n",
    "\tpassword=\"root\"\n",
    ")\n",
    "\n",
    "print(mysqlConnector)\n",
    "\n",
    "mysqlCursor = mysqlConnector.cursor()\n",
    "\n",
    "mysqlCursor.execute(\"SHOW DATABASES\")\n",
    "\n",
    "for database in mysqlCursor:\n",
    "\tprint(database)"
   ]
  },
  {
   "cell_type": "markdown",
   "metadata": {},
   "source": [
    "## ***3. Create Database***"
   ]
  },
  {
   "cell_type": "code",
   "execution_count": null,
   "metadata": {},
   "outputs": [],
   "source": [
    "mysqlCursor.execute(\"CREATE DATABASE IF NOT EXISTS AI_PROJ\")\n",
    "\n",
    "mysqlCursor.execute(\"USE AI_PROJ\")"
   ]
  },
  {
   "cell_type": "markdown",
   "metadata": {},
   "source": [
    "## ***4. Create Tables***"
   ]
  },
  {
   "cell_type": "code",
   "execution_count": null,
   "metadata": {},
   "outputs": [],
   "source": [
    "mysqlCursor.execute(\"CREATE TABLE IF NOT EXISTS `BOOKS` ( `BID` int(10) UNSIGNED NOT NULL, `ISBN` bigint(13) UNSIGNED DEFAULT NULL, `NAME` varchar(200) COLLATE utf8_unicode_ci NOT NULL, `MRP` int(6) UNSIGNED DEFAULT NULL, `DESCRIPTION` varchar(1000) COLLATE utf8_unicode_ci DEFAULT NULL, `IMG` varchar(3000) COLLATE utf8_unicode_ci DEFAULT NULL, `AUTHOR` varchar(100) COLLATE utf8_unicode_ci DEFAULT NULL, `FORMAT` varchar(25) COLLATE utf8_unicode_ci DEFAULT 'PAPERBACK' COMMENT 'PAPERBACK OR HARDCOVER', `PAGES` smallint(4) DEFAULT NULL, `WEIGHT` smallint(5) DEFAULT NULL, `REVIEW` tinyint(1) UNSIGNED NOT NULL DEFAULT '0') ENGINE=InnoDB DEFAULT CHARSET=utf8 COLLATE=utf8_unicode_ci;\")\n",
    "\n",
    "mysqlCursor.execute(\"CREATE TABLE IF NOT EXISTS `INVENTORY` ( `PID` bigint(20) UNSIGNED NOT NULL, `BID` int(10) UNSIGNED NOT NULL, `SID` int(10) UNSIGNED NOT NULL, `COND` varchar(25) COLLATE utf8_unicode_ci NOT NULL DEFAULT 'NEW', `QTY` smallint(5) UNSIGNED NOT NULL DEFAULT '1', `CP` float(7,2) UNSIGNED NOT NULL, `SP` float(7,2) UNSIGNED NOT NULL, `DISCOUNT` float(3,1) UNSIGNED DEFAULT '0.0', `LANG` varchar(25) COLLATE utf8_unicode_ci DEFAULT 'ENGLISH', `PI` int(10) UNSIGNED NOT NULL DEFAULT '0', `CREATED` timestamp NOT NULL DEFAULT CURRENT_TIMESTAMP, `MODIFIED` timestamp NOT NULL DEFAULT CURRENT_TIMESTAMP ON UPDATE CURRENT_TIMESTAMP) ENGINE=InnoDB DEFAULT CHARSET=utf8 COLLATE=utf8_unicode_ci;\")"
   ]
  },
  {
   "cell_type": "markdown",
   "metadata": {},
   "source": [
    "We have Already Added the Tables through the MySQL Workbench (Using SQL) and we have generated some data and filled the data in Tables"
   ]
  },
  {
   "cell_type": "markdown",
   "metadata": {},
   "source": [
    "## ***5. SQL In-Built Functions Query***"
   ]
  },
  {
   "cell_type": "markdown",
   "metadata": {},
   "source": [
    "There are 4 SQL In-Built Functions Queries\n",
    "\n",
    "1. **LIKE**\n",
    "2. **SIMILAR TO**\n",
    "3. **CONTAINS**\n",
    "4. **MATCH**\n",
    "\n",
    "Lets Apply LIKE and MATCH Queries and check the time taken for executing each of the query"
   ]
  },
  {
   "cell_type": "code",
   "execution_count": null,
   "metadata": {},
   "outputs": [],
   "source": [
    "timeArr = []"
   ]
  },
  {
   "cell_type": "code",
   "execution_count": null,
   "metadata": {},
   "outputs": [],
   "source": [
    "def MatchQuery(searchString):\n",
    "    start_time = time.time()\n",
    "    sql = \"\"\"\n",
    "    SELECT DISTINCT \n",
    "        I.PID, I.BID, I.SID, I.COND, I.QTY, I.CP, I.SP, I.DISCOUNT, I.LANG, B.ISBN, B.NAME, \n",
    "        B.MRP, B.DESCRIPTION, B.IMG, B.AUTHOR, B.FORMAT, B.PAGES, B.WEIGHT, B.REVIEW, \n",
    "    MATCH(B.NAME, B.AUTHOR, B.DESCRIPTION) AGAINST (%s IN BOOLEAN MODE) \n",
    "    AS relevance FROM INVENTORY I JOIN BOOKS B ON I.BID = B.BID \n",
    "    WHERE MATCH(B.NAME, B.AUTHOR, B.DESCRIPTION) AGAINST (%s IN BOOLEAN MODE) \n",
    "    AND (B.NAME LIKE %s OR B.AUTHOR LIKE %s) ORDER BY relevance DESC \n",
    "    \"\"\"\n",
    "    mysqlCursor.execute(sql, (searchString, searchString, f\"%{searchString}%\", f\"%{searchString}%\"))\n",
    "    for result in mysqlCursor:\n",
    "        print(result)\n",
    "    \n",
    "    time.sleep(5)\n",
    "    end_time = time.time()\n",
    "    elapsed_time = end_time - start_time\n",
    "    print(f\"Time taken for MatchQuery: {elapsed_time} seconds\")\n",
    "    timeArr.append(elapsed_time)\n",
    "\n",
    "def LikeQuery(searchString):\n",
    "    start_time = time.time()\n",
    "    sql = \"\"\"\n",
    "        SELECT DISTINCT I.PID, I.BID, I.SID, I.COND, I.QTY, I.CP, I.SP, I.DISCOUNT, I.LANG, \n",
    "            B.ISBN, B.NAME, B.MRP, B.DESCRIPTION, B.IMG, B.AUTHOR, B.FORMAT, \n",
    "            B.PAGES, B.WEIGHT, B.REVIEW\n",
    "        FROM INVENTORY I\n",
    "        JOIN BOOKS B ON I.BID = B.BID\n",
    "        WHERE (B.NAME LIKE %s OR B.AUTHOR LIKE %s OR B.DESCRIPTION LIKE %s)\n",
    "    \"\"\"\n",
    "    mysqlCursor.execute(sql, (f\"%{searchString}%\", f\"%{searchString}%\", f\"%{searchString}%\"))\n",
    "\n",
    "    for result in mysqlCursor:\n",
    "        print(result)\n",
    "    \n",
    "    time.sleep(5)\n",
    "    end_time = time.time()\n",
    "    elapsed_time = end_time - start_time\n",
    "    print(f\"Time taken for MatchQuery: {elapsed_time} seconds\")\n",
    "    timeArr.append(elapsed_time)\n",
    "\n",
    "search = \"Rich\"\n",
    "MatchQuery(search)\n",
    "LikeQuery(search)"
   ]
  },
  {
   "cell_type": "markdown",
   "metadata": {},
   "source": [
    "## ***6. AI Search Algorithms***"
   ]
  },
  {
   "cell_type": "markdown",
   "metadata": {},
   "source": [
    "#### **6.1 Importing the Tables into a DataFrame**"
   ]
  },
  {
   "cell_type": "code",
   "execution_count": null,
   "metadata": {},
   "outputs": [],
   "source": [
    "mysqlCursor.execute(\"SELECT * FROM BOOKS\")\n",
    "books_data = mysqlCursor.fetchall()\n",
    "\n",
    "# Create a pandas dataFrame for the 'BOOKS' table\n",
    "books_df = pd.DataFrame(books_data, columns=[\"BID\", \"ISBN\", \"NAME\", \"MRP\", \"DESCRIPTION\", \"IMG\", \"AUTHOR\", \"FORMAT\", \"PAGES\", \"WEIGHT\", \"REVIEW\"])\n",
    "\n",
    "# Display the 'BOOKS' dataFrame\n",
    "print(\"BOOKS Table:\")\n",
    "print(books_df)\n",
    "\n",
    "# Execute a SELECT query on the 'INVENTORY' table\n",
    "mysqlCursor.execute(\"SELECT * FROM INVENTORY\")\n",
    "inventory_data = mysqlCursor.fetchall()\n",
    "\n",
    "# Create a pandas dataFrame for the 'INVENTORY' table\n",
    "inventory_df = pd.DataFrame(inventory_data, columns=[\"PID\", \"BID\", \"SID\", \"COND\", \"QTY\", \"CP\", \"SP\", \"DISCOUNT\", \"LANG\", \"PI\", \"CREATED\", \"MODIFIED\"])\n",
    "\n",
    "# Display the 'INVENTORY' dataFrame\n",
    "print(\"\\nINVENTORY Table:\")\n",
    "print(inventory_df)"
   ]
  },
  {
   "cell_type": "markdown",
   "metadata": {},
   "source": [
    "#### **6.2 Fuzzy Search (Levenshtein Distance)**"
   ]
  },
  {
   "cell_type": "markdown",
   "metadata": {},
   "source": [
    "Fuzzy search techniques assist in locating outcomes that roughly match\n",
    "the search query. Soundex and Levenshtein distance are two common methods.\n",
    "\n",
    "We will use the Levenshtein distance function to calculate the distance\n",
    "between two strings."
   ]
  },
  {
   "cell_type": "code",
   "execution_count": null,
   "metadata": {},
   "outputs": [],
   "source": [
    "import re\n",
    "\n",
    "search_term = \"Rich\"\n",
    "\n",
    "# Filtered dataframes\n",
    "filtered_inventory_df = pd.DataFrame()\n",
    "filtered_books_df = pd.DataFrame()\n",
    "\n",
    "for col in ['COND', 'LANG']:\n",
    "    mask = inventory_df[col].str.contains(re.escape(search_term), case=False)\n",
    "    filtered_inventory_df = pd.concat([filtered_inventory_df, inventory_df[mask]])\n",
    "\n",
    "for col in ['NAME', 'AUTHOR', 'DESCRIPTION']:\n",
    "    mask = books_df[col].str.contains(re.escape(search_term), case=False)\n",
    "    filtered_books_df = pd.concat([filtered_books_df, books_df[mask]])\n",
    "\n",
    "print(\"Filtered INVENTORY Table:\")\n",
    "print(filtered_inventory_df)\n",
    "\n",
    "print(\"\\nFiltered BOOKS Table:\")\n",
    "print(filtered_books_df)"
   ]
  },
  {
   "cell_type": "markdown",
   "metadata": {},
   "source": [
    "#### **6.3 Vector Space Model (TF-IDF):**"
   ]
  },
  {
   "cell_type": "markdown",
   "metadata": {},
   "source": [
    "TF-IDF is a statistical tool for assessing a word's significance in relation to a group of documents. It is frequently applied to text-based searches."
   ]
  },
  {
   "cell_type": "code",
   "execution_count": null,
   "metadata": {},
   "outputs": [],
   "source": [
    "# Define the tfidf function\n",
    "def tfidf(term, document, documents):\n",
    "    tf = document.count(term.lower()) / len(document)\n",
    "    idf = math.log(len(documents) / (1 + sum([1 for doc in documents if term.lower() in doc.lower()])))\n",
    "    return tf * idf\n",
    "\n",
    "# Example Usage\n",
    "search_term = \"Rich\"\n",
    "\n",
    "# Apply TF-IDF to relevant columns in inventory_df\n",
    "for col in ['COND', 'LANG']:\n",
    "    documents = inventory_df[col].apply(str.split).tolist()\n",
    "    scores = [sum(tfidf(search_term, doc, documents) for doc in documents)]\n",
    "    inventory_df[f'{col}_tfidf_score'] = scores * len(inventory_df)  # Repeat the single score for each row\n",
    "\n",
    "# Apply TF-IDF to relevant columns in books_df\n",
    "for col in ['NAME', 'AUTHOR', 'DESCRIPTION']:\n",
    "    documents = books_df[col].apply(str.split).tolist()\n",
    "    scores = [sum(tfidf(search_term, doc, documents) for doc in documents)]\n",
    "    books_df[f'{col}_tfidf_score'] = scores * len(books_df)  # Repeat the single score for each row\n",
    "\n",
    "# Display the dataframes with TF-IDF scores\n",
    "print(\"INVENTORY Table with TF-IDF scores:\")\n",
    "print(inventory_df)\n",
    "\n",
    "print(\"\\nBOOKS Table with TF-IDF scores:\")\n",
    "print(books_df)"
   ]
  },
  {
   "cell_type": "markdown",
   "metadata": {},
   "source": [
    "#### **6.4 BM25:**"
   ]
  },
  {
   "cell_type": "markdown",
   "metadata": {},
   "source": [
    "BM25 is an enhanced version of TF-IDF that takes into account things like term\n",
    "saturation and normalization of document length. It is well known for being efficient at retrieving information."
   ]
  },
  {
   "cell_type": "code",
   "execution_count": null,
   "metadata": {},
   "outputs": [],
   "source": [
    "def bm25(term, document, documents, k=1.5, b=0.75):\n",
    "    tf = document.count(term)\n",
    "    idf = math.log((len(documents) - sum([1 for doc in documents if term in doc]) + 0.5) / (sum([1 for doc in documents if term in doc]) + 0.5) + 1)\n",
    "    avgdl = sum(len(doc) for doc in documents) / len(documents)\n",
    "    score = idf * (tf * (k + 1)) / (tf + k * (1 - b + b * len(document) / avgdl))\n",
    "    return score\n",
    "\n",
    "# Example Usage\n",
    "search_term = 'Rich'\n",
    "\n",
    "# Apply BM25 to relevant columns in inventory_df\n",
    "start_time = time.time()\n",
    "for col in ['COND', 'LANG']:\n",
    "    documents = inventory_df[col].apply(lambda x: str(x).split() if pd.notnull(x) else []).tolist()\n",
    "    scores = [bm25(search_term, doc, documents) for doc in documents]\n",
    "    inventory_df[f'{col}_bm25_score'] = scores\n",
    "\n",
    "end_time = time.time()\n",
    "elapsed_time = end_time - start_time\n",
    "print(f\"Time taken for MatchQuery: {elapsed_time} seconds\")\n",
    "\n",
    "start_time = time.time()\n",
    "# Apply BM25 to relevant columns in books_df\n",
    "for col in ['NAME', 'AUTHOR', 'DESCRIPTION']:\n",
    "    documents = books_df[col].apply(lambda x: str(x).split() if pd.notnull(x) else []).tolist()\n",
    "    scores = [bm25(search_term, doc, documents) for doc in documents]\n",
    "    books_df[f'{col}_bm25_score'] = scores\n",
    "\n",
    "end_time = time.time()\n",
    "elapsed_time = end_time - start_time\n",
    "print(f\"Time taken for MatchQuery: {elapsed_time} seconds\")\n",
    "timeArr.append(elapsed_time)\n",
    "\n",
    "# Display the dataframes with BM25 scores\n",
    "print(\"INVENTORY Table with BM25 scores:\")\n",
    "print(inventory_df)\n",
    "\n",
    "print(\"\\nBOOKS Table with BM25 scores:\")\n",
    "print(books_df)"
   ]
  }
 ],
 "metadata": {
  "language_info": {
   "name": "python"
  },
  "orig_nbformat": 4
 },
 "nbformat": 4,
 "nbformat_minor": 2
}
